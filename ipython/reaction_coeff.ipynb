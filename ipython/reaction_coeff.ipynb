{
 "cells": [
  {
   "cell_type": "code",
   "execution_count": 2,
   "metadata": {
    "collapsed": true
   },
   "outputs": [],
   "source": [
    "from sympy import Matrix, S, linsolve, symbols, simplify\n",
    "from sympy.interactive import printing\n",
    "printing.init_printing(use_latex=True)"
   ]
  },
  {
   "cell_type": "code",
   "execution_count": 3,
   "metadata": {
    "collapsed": true
   },
   "outputs": [],
   "source": [
    "x, y, z, w = symbols(\"x, y, z, w\")\n",
    "cp, cm, cp0, cm0 = symbols(\"c_+, c_-, c_+^0, c_-^0\")\n",
    "kp, km = symbols(\"k_+, k_-\")\n",
    "vp, vm = symbols(\"v_+, v_-\")\n",
    "A = Matrix([[1, cp, cp * cp, cp **3], [1, cm, cm**2, cm**3],[0, 1, 2 * cp, 3 * cp **2], [0, 1, 2 * cm, 3 * cm**2]])\n",
    "b = Matrix([vp + kp * cp0 - kp * cp, -vm + km * cm0 - km * cm, -kp, -km])"
   ]
  },
  {
   "cell_type": "code",
   "execution_count": 4,
   "metadata": {},
   "outputs": [
    {
     "data": {
      "image/png": "[encoded data removed]",
      "text/latex": [
       "$$\\left[\\begin{matrix}1 & c_{+} & c_{+}^{2} & c_{+}^{3}\\\\1 & c_{-} & c_{-}^{2} & c_{-}^{3}\\\\0 & 1 & 2 c_{+} & 3 c_{+}^{2}\\\\0 & 1 & 2 c_{-} & 3 c_{-}^{2}\\end{matrix}\\right]$$"
      ],
      "text/plain": [
       "⎡         2      3 ⎤\n",
       "⎢1  c₊  c₊     c₊  ⎥\n",
       "⎢                  ⎥\n",
       "⎢         2      3 ⎥\n",
       "⎢1  c₋  c₋     c₋  ⎥\n",
       "⎢                  ⎥\n",
       "⎢                 2⎥\n",
       "⎢0  1   2⋅c₊  3⋅c₊ ⎥\n",
       "⎢                  ⎥\n",
       "⎢                 2⎥\n",
       "⎣0  1   2⋅c₋  3⋅c₋ ⎦"
      ]
     },
     "execution_count": 4,
     "metadata": {},
     "output_type": "execute_result"
    }
   ],
   "source": [
    "A"
   ]
  },
  {
   "cell_type": "code",
   "execution_count": 5,
   "metadata": {},
   "outputs": [
    {
     "data": {
      "image/png": "[encoded data removed]",
      "text/latex": [
       "$$\\left[\\begin{matrix}- c_{+} k_{+} + c^{0}_{+} k_{+} + v_{+}\\\\- c_{-} k_{-} + c^{0}_{-} k_{-} - v_{-}\\\\- k_{+}\\\\- k_{-}\\end{matrix}\\right]$$"
      ],
      "text/plain": [
       "⎡-c₊⋅k₊ + c⁰₊⋅k₊ + v₊⎤\n",
       "⎢                    ⎥\n",
       "⎢-c₋⋅k₋ + c⁰₋⋅k₋ - v₋⎥\n",
       "⎢                    ⎥\n",
       "⎢        -k₊         ⎥\n",
       "⎢                    ⎥\n",
       "⎣        -k₋         ⎦"
      ]
     },
     "execution_count": 5,
     "metadata": {},
     "output_type": "execute_result"
    }
   ],
   "source": [
    "b"
   ]
  },
  {
   "cell_type": "code",
   "execution_count": 6,
   "metadata": {
    "collapsed": true
   },
   "outputs": [],
   "source": [
    "X = linsolve((A, b), x, y, z, w)"
   ]
  },
  {
   "cell_type": "code",
   "execution_count": 7,
   "metadata": {},
   "outputs": [
    {
     "data": {
      "image/png": "[encoded data removed]",
      "text/latex": [
       "$$\\left\\{\\left ( \\frac{1}{c_{+}^{3} - 3 c_{+}^{2} c_{-} + 3 c_{+} c_{-}^{2} - c_{-}^{3}} \\left(c_{+}^{3} c^{0}_{-} k_{-} - c_{+}^{3} v_{-} - 2 c_{+}^{2} c_{-}^{2} k_{+} + 2 c_{+}^{2} c_{-}^{2} k_{-} - 3 c_{+}^{2} c_{-} c^{0}_{-} k_{-} + 3 c_{+}^{2} c_{-} v_{-} + 3 c_{+} c^{0}_{+} c_{-}^{2} k_{+} + 3 c_{+} c_{-}^{2} v_{+} - c^{0}_{+} c_{-}^{3} k_{+} - c_{-}^{3} v_{+}\\right), \\quad \\frac{1}{c_{+}^{3} - 3 c_{+}^{2} c_{-} + 3 c_{+} c_{-}^{2} - c_{-}^{3}} \\left(- c_{+}^{3} k_{-} + 4 c_{+}^{2} c_{-} k_{+} - c_{+}^{2} c_{-} k_{-} - 6 c_{+} c^{0}_{+} c_{-} k_{+} + c_{+} c_{-}^{2} k_{+} - 4 c_{+} c_{-}^{2} k_{-} + 6 c_{+} c_{-} c^{0}_{-} k_{-} - 6 c_{+} c_{-} v_{+} - 6 c_{+} c_{-} v_{-} + c_{-}^{3} k_{+}\\right), \\quad \\frac{1}{c_{+}^{3} - 3 c_{+}^{2} c_{-} + 3 c_{+} c_{-}^{2} - c_{-}^{3}} \\left(- 2 c_{+}^{2} k_{+} + 2 c_{+}^{2} k_{-} + 3 c_{+} c^{0}_{+} k_{+} - 2 c_{+} c_{-} k_{+} + 2 c_{+} c_{-} k_{-} - 3 c_{+} c^{0}_{-} k_{-} + 3 c_{+} v_{+} + 3 c_{+} v_{-} + 3 c^{0}_{+} c_{-} k_{+} - 2 c_{-}^{2} k_{+} + 2 c_{-}^{2} k_{-} - 3 c_{-} c^{0}_{-} k_{-} + 3 c_{-} v_{+} + 3 c_{-} v_{-}\\right), \\quad \\frac{1}{c_{+}^{3} - 3 c_{+}^{2} c_{-} + 3 c_{+} c_{-}^{2} - c_{-}^{3}} \\left(c_{+} k_{+} - c_{+} k_{-} - 2 c^{0}_{+} k_{+} + c_{-} k_{+} - c_{-} k_{-} + 2 c^{0}_{-} k_{-} - 2 v_{+} - 2 v_{-}\\right)\\right )\\right\\}$$"
      ],
      "text/plain": [
       "⎧⎛  3            3          2   2          2   2          2                 2 \n",
       "⎪⎜c₊ ⋅c⁰₋⋅k₋ - c₊ ⋅v₋ - 2⋅c₊ ⋅c₋ ⋅k₊ + 2⋅c₊ ⋅c₋ ⋅k₋ - 3⋅c₊ ⋅c₋⋅c⁰₋⋅k₋ + 3⋅c₊ ⋅\n",
       "⎨⎜────────────────────────────────────────────────────────────────────────────\n",
       "⎪⎜                                                      3       2             \n",
       "⎩⎝                                                    c₊  - 3⋅c₊ ⋅c₋ + 3⋅c₊⋅c₋\n",
       "\n",
       "                   2             2            3        3         3          2 \n",
       "c₋⋅v₋ + 3⋅c₊⋅c⁰₊⋅c₋ ⋅k₊ + 3⋅c₊⋅c₋ ⋅v₊ - c⁰₊⋅c₋ ⋅k₊ - c₋ ⋅v₊  - c₊ ⋅k₋ + 4⋅c₊ ⋅\n",
       "───────────────────────────────────────────────────────────, ─────────────────\n",
       "2     3                                                                       \n",
       "  - c₋                                                                        \n",
       "\n",
       "          2                               2             2                     \n",
       "c₋⋅k₊ - c₊ ⋅c₋⋅k₋ - 6⋅c₊⋅c⁰₊⋅c₋⋅k₊ + c₊⋅c₋ ⋅k₊ - 4⋅c₊⋅c₋ ⋅k₋ + 6⋅c₊⋅c₋⋅c⁰₋⋅k₋ \n",
       "──────────────────────────────────────────────────────────────────────────────\n",
       "                                  3       2             2     3               \n",
       "                                c₊  - 3⋅c₊ ⋅c₋ + 3⋅c₊⋅c₋  - c₋                \n",
       "\n",
       "                              3           2          2                        \n",
       "- 6⋅c₊⋅c₋⋅v₊ - 6⋅c₊⋅c₋⋅v₋ + c₋ ⋅k₊  - 2⋅c₊ ⋅k₊ + 2⋅c₊ ⋅k₋ + 3⋅c₊⋅c⁰₊⋅k₊ - 2⋅c₊\n",
       "──────────────────────────────────, ──────────────────────────────────────────\n",
       "                                                                              \n",
       "                                                                              \n",
       "\n",
       "                                                                          2   \n",
       "⋅c₋⋅k₊ + 2⋅c₊⋅c₋⋅k₋ - 3⋅c₊⋅c⁰₋⋅k₋ + 3⋅c₊⋅v₊ + 3⋅c₊⋅v₋ + 3⋅c⁰₊⋅c₋⋅k₊ - 2⋅c₋ ⋅k₊\n",
       "──────────────────────────────────────────────────────────────────────────────\n",
       "                           3       2             2     3                      \n",
       "                         c₊  - 3⋅c₊ ⋅c₋ + 3⋅c₊⋅c₋  - c₋                       \n",
       "\n",
       "       2                                                                      \n",
       " + 2⋅c₋ ⋅k₋ - 3⋅c₋⋅c⁰₋⋅k₋ + 3⋅c₋⋅v₊ + 3⋅c₋⋅v₋  c₊⋅k₊ - c₊⋅k₋ - 2⋅c⁰₊⋅k₊ + c₋⋅k\n",
       "─────────────────────────────────────────────, ───────────────────────────────\n",
       "                                                                  3       2   \n",
       "                                                                c₊  - 3⋅c₊ ⋅c₋\n",
       "\n",
       "                                  ⎞⎫\n",
       "₊ - c₋⋅k₋ + 2⋅c⁰₋⋅k₋ - 2⋅v₊ - 2⋅v₋⎟⎪\n",
       "──────────────────────────────────⎟⎬\n",
       "          2     3                 ⎟⎪\n",
       " + 3⋅c₊⋅c₋  - c₋                  ⎠⎭"
      ]
     },
     "execution_count": 7,
     "metadata": {},
     "output_type": "execute_result"
    }
   ],
   "source": [
    "X"
   ]
  },
  {
   "cell_type": "code",
   "execution_count": 8,
   "metadata": {},
   "outputs": [
    {
     "data": {
      "image/png": "[encoded data removed]",
      "text/latex": [
       "$$\\left\\{\\left ( \\frac{1}{\\left(c_{+} - c_{-}\\right)^{3}} \\left(c_{+}^{3} c^{0}_{-} k_{-} - c_{+}^{3} v_{-} - 2 c_{+}^{2} c_{-}^{2} k_{+} + 2 c_{+}^{2} c_{-}^{2} k_{-} - 3 c_{+}^{2} c_{-} c^{0}_{-} k_{-} + 3 c_{+}^{2} c_{-} v_{-} + 3 c_{+} c^{0}_{+} c_{-}^{2} k_{+} + 3 c_{+} c_{-}^{2} v_{+} - c^{0}_{+} c_{-}^{3} k_{+} - c_{-}^{3} v_{+}\\right), \\quad - \\frac{1}{\\left(c_{+} - c_{-}\\right)^{3}} \\left(c_{+}^{3} k_{-} - 4 c_{+}^{2} c_{-} k_{+} + c_{+}^{2} c_{-} k_{-} + 6 c_{+} c^{0}_{+} c_{-} k_{+} - c_{+} c_{-}^{2} k_{+} + 4 c_{+} c_{-}^{2} k_{-} - 6 c_{+} c_{-} c^{0}_{-} k_{-} + 6 c_{+} c_{-} v_{+} + 6 c_{+} c_{-} v_{-} - c_{-}^{3} k_{+}\\right), \\quad - \\frac{1}{\\left(c_{+} - c_{-}\\right)^{3}} \\left(2 c_{+}^{2} k_{+} - 2 c_{+}^{2} k_{-} - 3 c_{+} c^{0}_{+} k_{+} + 2 c_{+} c_{-} k_{+} - 2 c_{+} c_{-} k_{-} + 3 c_{+} c^{0}_{-} k_{-} - 3 c_{+} v_{+} - 3 c_{+} v_{-} - 3 c^{0}_{+} c_{-} k_{+} + 2 c_{-}^{2} k_{+} - 2 c_{-}^{2} k_{-} + 3 c_{-} c^{0}_{-} k_{-} - 3 c_{-} v_{+} - 3 c_{-} v_{-}\\right), \\quad \\frac{1}{\\left(c_{+} - c_{-}\\right)^{3}} \\left(c_{+} k_{+} - c_{+} k_{-} - 2 c^{0}_{+} k_{+} + c_{-} k_{+} - c_{-} k_{-} + 2 c^{0}_{-} k_{-} - 2 v_{+} - 2 v_{-}\\right)\\right )\\right\\}$$"
      ],
      "text/plain": [
       "⎧⎛  3            3          2   2          2   2          2                 2 \n",
       "⎪⎜c₊ ⋅c⁰₋⋅k₋ - c₊ ⋅v₋ - 2⋅c₊ ⋅c₋ ⋅k₊ + 2⋅c₊ ⋅c₋ ⋅k₋ - 3⋅c₊ ⋅c₋⋅c⁰₋⋅k₋ + 3⋅c₊ ⋅\n",
       "⎨⎜────────────────────────────────────────────────────────────────────────────\n",
       "⎪⎜                                                                        3   \n",
       "⎩⎝                                                               (c₊ - c₋)    \n",
       "\n",
       "                   2             2            3        3      ⎛  3          2 \n",
       "c₋⋅v₋ + 3⋅c₊⋅c⁰₊⋅c₋ ⋅k₊ + 3⋅c₊⋅c₋ ⋅v₊ - c⁰₊⋅c₋ ⋅k₊ - c₋ ⋅v₊  -⎝c₊ ⋅k₋ - 4⋅c₊ ⋅\n",
       "───────────────────────────────────────────────────────────, ─────────────────\n",
       "                                                                              \n",
       "                                                                              \n",
       "\n",
       "          2                               2             2                     \n",
       "c₋⋅k₊ + c₊ ⋅c₋⋅k₋ + 6⋅c₊⋅c⁰₊⋅c₋⋅k₊ - c₊⋅c₋ ⋅k₊ + 4⋅c₊⋅c₋ ⋅k₋ - 6⋅c₊⋅c₋⋅c⁰₋⋅k₋ \n",
       "──────────────────────────────────────────────────────────────────────────────\n",
       "                                                     3                        \n",
       "                                            (c₊ - c₋)                         \n",
       "\n",
       "                              3   ⎞    ⎛    2          2                      \n",
       "+ 6⋅c₊⋅c₋⋅v₊ + 6⋅c₊⋅c₋⋅v₋ - c₋ ⋅k₊⎠   -⎝2⋅c₊ ⋅k₊ - 2⋅c₊ ⋅k₋ - 3⋅c₊⋅c⁰₊⋅k₊ + 2⋅\n",
       "────────────────────────────────────, ────────────────────────────────────────\n",
       "                                                                              \n",
       "                                                                              \n",
       "\n",
       "                                                                            2 \n",
       "c₊⋅c₋⋅k₊ - 2⋅c₊⋅c₋⋅k₋ + 3⋅c₊⋅c⁰₋⋅k₋ - 3⋅c₊⋅v₊ - 3⋅c₊⋅v₋ - 3⋅c⁰₊⋅c₋⋅k₊ + 2⋅c₋ ⋅\n",
       "──────────────────────────────────────────────────────────────────────────────\n",
       "                                                3                             \n",
       "                                       (c₊ - c₋)                              \n",
       "\n",
       "         2                                     ⎞                              \n",
       "k₊ - 2⋅c₋ ⋅k₋ + 3⋅c₋⋅c⁰₋⋅k₋ - 3⋅c₋⋅v₊ - 3⋅c₋⋅v₋⎠   c₊⋅k₊ - c₊⋅k₋ - 2⋅c⁰₊⋅k₊ + \n",
       "─────────────────────────────────────────────────, ───────────────────────────\n",
       "                                                                              \n",
       "                                                                              \n",
       "\n",
       "                                      ⎞⎫\n",
       "c₋⋅k₊ - c₋⋅k₋ + 2⋅c⁰₋⋅k₋ - 2⋅v₊ - 2⋅v₋⎟⎪\n",
       "──────────────────────────────────────⎟⎬\n",
       "          3                           ⎟⎪\n",
       " (c₊ - c₋)                            ⎠⎭"
      ]
     },
     "execution_count": 8,
     "metadata": {},
     "output_type": "execute_result"
    }
   ],
   "source": [
    "from sympy.simplify import combsimp\n",
    "combsimp(X)"
   ]
  },
  {
   "cell_type": "code",
   "execution_count": 9,
   "metadata": {
    "collapsed": true
   },
   "outputs": [],
   "source": [
    "b0, b1, b2, b3 = symbols(\"b_0, b_1, b_2, b_3\")\n",
    "B = Matrix([b0, b1, b2, b3])"
   ]
  },
  {
   "cell_type": "code",
   "execution_count": 10,
   "metadata": {},
   "outputs": [
    {
     "data": {
      "image/png": "[encoded data removed]",
      "text/latex": [
       "$$\\left[\\begin{matrix}b_{0}\\\\b_{1}\\\\b_{2}\\\\b_{3}\\end{matrix}\\right]$$"
      ],
      "text/plain": [
       "⎡b₀⎤\n",
       "⎢  ⎥\n",
       "⎢b₁⎥\n",
       "⎢  ⎥\n",
       "⎢b₂⎥\n",
       "⎢  ⎥\n",
       "⎣b₃⎦"
      ]
     },
     "execution_count": 10,
     "metadata": {},
     "output_type": "execute_result"
    }
   ],
   "source": [
    "B"
   ]
  },
  {
   "cell_type": "code",
   "execution_count": 11,
   "metadata": {},
   "outputs": [
    {
     "data": {
      "image/png": "[encoded data removed]",
      "text/latex": [
       "$$\\left\\{\\left ( \\frac{1}{\\left(c_{+} - c_{-}\\right)^{3}} \\left(3 b_{0} c_{+} c_{-}^{2} - b_{0} c_{-}^{3} + b_{1} c_{+}^{3} - 3 b_{1} c_{+}^{2} c_{-} - b_{2} c_{+}^{2} c_{-}^{2} + b_{2} c_{+} c_{-}^{3} - b_{3} c_{+}^{3} c_{-} + b_{3} c_{+}^{2} c_{-}^{2}\\right), \\quad - \\frac{1}{\\left(c_{+} - c_{-}\\right)^{3}} \\left(6 b_{0} c_{+} c_{-} - 6 b_{1} c_{+} c_{-} - 2 b_{2} c_{+}^{2} c_{-} + b_{2} c_{+} c_{-}^{2} + b_{2} c_{-}^{3} - b_{3} c_{+}^{3} - b_{3} c_{+}^{2} c_{-} + 2 b_{3} c_{+} c_{-}^{2}\\right), \\quad \\frac{1}{\\left(c_{+} - c_{-}\\right)^{3}} \\left(3 b_{0} c_{+} + 3 b_{0} c_{-} - 3 b_{1} c_{+} - 3 b_{1} c_{-} - b_{2} c_{+}^{2} - b_{2} c_{+} c_{-} + 2 b_{2} c_{-}^{2} - 2 b_{3} c_{+}^{2} + b_{3} c_{+} c_{-} + b_{3} c_{-}^{2}\\right), \\quad - \\frac{1}{\\left(c_{+} - c_{-}\\right)^{3}} \\left(2 b_{0} - 2 b_{1} - b_{2} c_{+} + b_{2} c_{-} - b_{3} c_{+} + b_{3} c_{-}\\right)\\right )\\right\\}$$"
      ],
      "text/plain": [
       "⎧⎛          2        3        3          2           2   2           3        \n",
       "⎪⎜3⋅b₀⋅c₊⋅c₋  - b₀⋅c₋  + b₁⋅c₊  - 3⋅b₁⋅c₊ ⋅c₋ - b₂⋅c₊ ⋅c₋  + b₂⋅c₊⋅c₋  - b₃⋅c₊\n",
       "⎨⎜────────────────────────────────────────────────────────────────────────────\n",
       "⎪⎜                                                   3                        \n",
       "⎩⎝                                          (c₊ - c₋)                         \n",
       "\n",
       "3           2   2   ⎛                                 2              2        \n",
       " ⋅c₋ + b₃⋅c₊ ⋅c₋   -⎝6⋅b₀⋅c₊⋅c₋ - 6⋅b₁⋅c₊⋅c₋ - 2⋅b₂⋅c₊ ⋅c₋ + b₂⋅c₊⋅c₋  + b₂⋅c₋\n",
       "─────────────────, ───────────────────────────────────────────────────────────\n",
       "                                                                        3     \n",
       "                                                               (c₊ - c₋)      \n",
       "\n",
       "3        3        2                2⎞                                         \n",
       "  - b₃⋅c₊  - b₃⋅c₊ ⋅c₋ + 2⋅b₃⋅c₊⋅c₋ ⎠   3⋅b₀⋅c₊ + 3⋅b₀⋅c₋ - 3⋅b₁⋅c₊ - 3⋅b₁⋅c₋ \n",
       "──────────────────────────────────────, ──────────────────────────────────────\n",
       "                                                                              \n",
       "                                                                              \n",
       "\n",
       "       2                     2          2                   2                 \n",
       "- b₂⋅c₊  - b₂⋅c₊⋅c₋ + 2⋅b₂⋅c₋  - 2⋅b₃⋅c₊  + b₃⋅c₊⋅c₋ + b₃⋅c₋   -(2⋅b₀ - 2⋅b₁ -\n",
       "─────────────────────────────────────────────────────────────, ───────────────\n",
       "                3                                                             \n",
       "       (c₊ - c₋)                                                              \n",
       "\n",
       "                                ⎞⎫\n",
       " b₂⋅c₊ + b₂⋅c₋ - b₃⋅c₊ + b₃⋅c₋) ⎟⎪\n",
       "────────────────────────────────⎟⎬\n",
       "             3                  ⎟⎪\n",
       "    (c₊ - c₋)                   ⎠⎭"
      ]
     },
     "execution_count": 11,
     "metadata": {},
     "output_type": "execute_result"
    }
   ],
   "source": [
    "combsimp(linsolve((A, B), x, y, z, w))"
   ]
  },
  {
   "cell_type": "code",
   "execution_count": 12,
   "metadata": {
    "collapsed": true
   },
   "outputs": [],
   "source": [
    "import matplotlib.pyplot as plt\n",
    "import numpy as np"
   ]
  },
  {
   "cell_type": "code",
   "execution_count": 19,
   "metadata": {
    "collapsed": true
   },
   "outputs": [],
   "source": [
    "c0_p = 0.\n",
    "c0_m = 1.\n",
    "k_p = k_m = 0.01\n",
    "nu_0 = 0.01\n",
    "cc_p = c0_p + 0.25\n",
    "cc_m = c0_p + 0.75\n",
    "eps = 0.2\n",
    "turnover = 1.2\n",
    "nu_p = eps * k_p\n",
    "nu_m = turnover * nu_0\n",
    "b0 = nu_p + k_p * (c0_p - cc_p)\n",
    "b1 = -nu_m + k_m * (c0_m - cc_m)\n",
    "b2 = -k_p\n",
    "b3 = -k_m\n",
    "tmp = 1 / (cc_p - cc_m) ** 3\n",
    "p0 = b0* cc_m * cc_m * (3 * cc_p - cc_m) + b1 * cc_p * cc_p * (cc_p - 3 * cc_m) + (b2 * cc_m + b3 * cc_p) * cc_p * cc_m * (cc_m - cc_p)\n",
    "p1 = 6 * (b0 - b1) * cc_p * cc_m - b2 * cc_m * (2 * cc_p + cc_m) * (cc_p - cc_m) - b3 * cc_p * (cc_p - cc_m) * (cc_p + 2 * cc_m)\n",
    "p2 = 3 * (b0 - b1) * (cc_p + cc_m) - b2 * (cc_p + 2 * cc_m) * (cc_p - cc_m) - b3 * (2 * cc_p + cc_m) * (cc_p - cc_m)\n",
    "p3 = 2 * (b0 - b1) - (b2 + b3) * (cc_p - cc_m)\n",
    "p0 *= tmp\n",
    "p1 *= -tmp\n",
    "p2 *= tmp\n",
    "p3 *= -tmp"
   ]
  },
  {
   "cell_type": "code",
   "execution_count": 20,
   "metadata": {
    "collapsed": true
   },
   "outputs": [],
   "source": [
    "def f_s(x):\n",
    "    if (x < cc_p):\n",
    "        s = nu_p + k_p * (c0_p - x)\n",
    "    elif (x > cc_m):\n",
    "        s = -nu_m + k_m * (c0_m - x)\n",
    "    else:\n",
    "        s = p0 + p1 * x + p2 * x * x + p3 * x * x * x\n",
    "    return s"
   ]
  },
  {
   "cell_type": "code",
   "execution_count": 21,
   "metadata": {},
   "outputs": [
    {
     "data": {
      "image/png": "[encoded data removed]",
      "text/plain": [
       "<Figure size 432x288 with 1 Axes>"
      ]
     },
     "metadata": {},
     "output_type": "display_data"
    }
   ],
   "source": [
    "c = np.linspace(0, 1, 100)\n",
    "s = np.array([f_s(i) for i in c])\n",
    "plt.plot(c , s/nu_0)\n",
    "plt.show()"
   ]
  }
 ],
 "metadata": {
  "kernelspec": {
   "display_name": "Python 3",
   "language": "python",
   "name": "python3"
  },
  "language_info": {
   "codemirror_mode": {
    "name": "ipython",
    "version": 3
   },
   "file_extension": ".py",
   "mimetype": "text/x-python",
   "name": "python",
   "nbconvert_exporter": "python",
   "pygments_lexer": "ipython3",
   "version": "3.6.1"
  }
 },
 "nbformat": 4,
 "nbformat_minor": 2
}
