{
 "cells": [
  {
   "cell_type": "code",
   "execution_count": 9,
   "metadata": {
    "collapsed": true
   },
   "outputs": [],
   "source": [
    "from sympy import Matrix, S, linsolve, symbols, simplify\n",
    "from sympy.interactive import printing\n",
    "printing.init_printing(use_latex=True)"
   ]
  },
  {
   "cell_type": "code",
   "execution_count": 10,
   "metadata": {
    "collapsed": true
   },
   "outputs": [],
   "source": [
    "x, y, z, w = symbols(\"x, y, z, w\")\n",
    "cp, cm, cp0, cm0 = symbols(\"c_+, c_-, c_+^0, c_-^0\")\n",
    "kp, km = symbols(\"k_+, k_-\")\n",
    "vp, vm = symbols(\"v_+, v_-\")\n",
    "A = Matrix([[1, cp, cp * cp, cp **3], [1, cm, cm**2, cm**3],[0, 1, 2 * cp, 3 * cp **2], [0, 1, 2 * cm, 3 * cm**2]])\n",
    "b = Matrix([vp + kp * cp0 - kp * cp, -vm + km * cm0 - km * cm, -kp, -km])"
   ]
  },
  {
   "cell_type": "code",
   "execution_count": 11,
   "metadata": {},
   "outputs": [
    {
     "data": {
      "image/png": "[encoded data removed]",
      "text/latex": [
       "$$\\left[\\begin{matrix}1 & c_{+} & c_{+}^{2} & c_{+}^{3}\\\\1 & c_{-} & c_{-}^{2} & c_{-}^{3}\\\\0 & 1 & 2 c_{+} & 3 c_{+}^{2}\\\\0 & 1 & 2 c_{-} & 3 c_{-}^{2}\\end{matrix}\\right]$$"
      ],
      "text/plain": [
       "⎡         2      3 ⎤\n",
       "⎢1  c₊  c₊     c₊  ⎥\n",
       "⎢                  ⎥\n",
       "⎢         2      3 ⎥\n",
       "⎢1  c₋  c₋     c₋  ⎥\n",
       "⎢                  ⎥\n",
       "⎢                 2⎥\n",
       "⎢0  1   2⋅c₊  3⋅c₊ ⎥\n",
       "⎢                  ⎥\n",
       "⎢                 2⎥\n",
       "⎣0  1   2⋅c₋  3⋅c₋ ⎦"
      ]
     },
     "execution_count": 11,
     "metadata": {},
     "output_type": "execute_result"
    }
   ],
   "source": [
    "A"
   ]
  },
  {
   "cell_type": "code",
   "execution_count": 12,
   "metadata": {},
   "outputs": [
    {
     "data": {
      "image/png": "[encoded data removed]",
      "text/latex": [
       "$$\\left[\\begin{matrix}- c_{+} k_{+} + c^{0}_{+} k_{+} + v_{+}\\\\- c_{-} k_{-} + c^{0}_{-} k_{-} - v_{-}\\\\- k_{+}\\\\- k_{-}\\end{matrix}\\right]$$"
      ],
      "text/plain": [
       "⎡-c₊⋅k₊ + c⁰₊⋅k₊ + v₊⎤\n",
       "⎢                    ⎥\n",
       "⎢-c₋⋅k₋ + c⁰₋⋅k₋ - v₋⎥\n",
       "⎢                    ⎥\n",
       "⎢        -k₊         ⎥\n",
       "⎢                    ⎥\n",
       "⎣        -k₋         ⎦"
      ]
     },
     "execution_count": 12,
     "metadata": {},
     "output_type": "execute_result"
    }
   ],
   "source": [
    "b"
   ]
  },
  {
   "cell_type": "code",
   "execution_count": 16,
   "metadata": {},
   "outputs": [],
   "source": [
    "X = linsolve((A, b), x, y, z, w)"
   ]
  },
  {
   "cell_type": "code",
   "execution_count": 26,
   "metadata": {},
   "outputs": [
    {
     "data": {
      "image/png": "[encoded data removed]",
      "text/latex": [
       "$$\\left\\{\\left ( \\frac{1}{c_{+}^{3} - 3 c_{+}^{2} c_{-} + 3 c_{+} c_{-}^{2} - c_{-}^{3}} \\left(c_{+}^{3} c^{0}_{-} k_{-} - c_{+}^{3} v_{-} - 2 c_{+}^{2} c_{-}^{2} k_{+} + 2 c_{+}^{2} c_{-}^{2} k_{-} - 3 c_{+}^{2} c_{-} c^{0}_{-} k_{-} + 3 c_{+}^{2} c_{-} v_{-} + 3 c_{+} c^{0}_{+} c_{-}^{2} k_{+} + 3 c_{+} c_{-}^{2} v_{+} - c^{0}_{+} c_{-}^{3} k_{+} - c_{-}^{3} v_{+}\\right), \\quad \\frac{1}{c_{+}^{3} - 3 c_{+}^{2} c_{-} + 3 c_{+} c_{-}^{2} - c_{-}^{3}} \\left(- c_{+}^{3} k_{-} + 4 c_{+}^{2} c_{-} k_{+} - c_{+}^{2} c_{-} k_{-} - 6 c_{+} c^{0}_{+} c_{-} k_{+} + c_{+} c_{-}^{2} k_{+} - 4 c_{+} c_{-}^{2} k_{-} + 6 c_{+} c_{-} c^{0}_{-} k_{-} - 6 c_{+} c_{-} v_{+} - 6 c_{+} c_{-} v_{-} + c_{-}^{3} k_{+}\\right), \\quad \\frac{1}{c_{+}^{3} - 3 c_{+}^{2} c_{-} + 3 c_{+} c_{-}^{2} - c_{-}^{3}} \\left(- 2 c_{+}^{2} k_{+} + 2 c_{+}^{2} k_{-} + 3 c_{+} c^{0}_{+} k_{+} - 2 c_{+} c_{-} k_{+} + 2 c_{+} c_{-} k_{-} - 3 c_{+} c^{0}_{-} k_{-} + 3 c_{+} v_{+} + 3 c_{+} v_{-} + 3 c^{0}_{+} c_{-} k_{+} - 2 c_{-}^{2} k_{+} + 2 c_{-}^{2} k_{-} - 3 c_{-} c^{0}_{-} k_{-} + 3 c_{-} v_{+} + 3 c_{-} v_{-}\\right), \\quad \\frac{1}{c_{+}^{3} - 3 c_{+}^{2} c_{-} + 3 c_{+} c_{-}^{2} - c_{-}^{3}} \\left(c_{+} k_{+} - c_{+} k_{-} - 2 c^{0}_{+} k_{+} + c_{-} k_{+} - c_{-} k_{-} + 2 c^{0}_{-} k_{-} - 2 v_{+} - 2 v_{-}\\right)\\right )\\right\\}$$"
      ],
      "text/plain": [
       "⎧⎛  3            3          2   2          2   2          2                 2 \n",
       "⎪⎜c₊ ⋅c⁰₋⋅k₋ - c₊ ⋅v₋ - 2⋅c₊ ⋅c₋ ⋅k₊ + 2⋅c₊ ⋅c₋ ⋅k₋ - 3⋅c₊ ⋅c₋⋅c⁰₋⋅k₋ + 3⋅c₊ ⋅\n",
       "⎨⎜────────────────────────────────────────────────────────────────────────────\n",
       "⎪⎜                                                      3       2             \n",
       "⎩⎝                                                    c₊  - 3⋅c₊ ⋅c₋ + 3⋅c₊⋅c₋\n",
       "\n",
       "                   2             2            3        3         3          2 \n",
       "c₋⋅v₋ + 3⋅c₊⋅c⁰₊⋅c₋ ⋅k₊ + 3⋅c₊⋅c₋ ⋅v₊ - c⁰₊⋅c₋ ⋅k₊ - c₋ ⋅v₊  - c₊ ⋅k₋ + 4⋅c₊ ⋅\n",
       "───────────────────────────────────────────────────────────, ─────────────────\n",
       "2     3                                                                       \n",
       "  - c₋                                                                        \n",
       "\n",
       "          2                               2             2                     \n",
       "c₋⋅k₊ - c₊ ⋅c₋⋅k₋ - 6⋅c₊⋅c⁰₊⋅c₋⋅k₊ + c₊⋅c₋ ⋅k₊ - 4⋅c₊⋅c₋ ⋅k₋ + 6⋅c₊⋅c₋⋅c⁰₋⋅k₋ \n",
       "──────────────────────────────────────────────────────────────────────────────\n",
       "                                  3       2             2     3               \n",
       "                                c₊  - 3⋅c₊ ⋅c₋ + 3⋅c₊⋅c₋  - c₋                \n",
       "\n",
       "                              3           2          2                        \n",
       "- 6⋅c₊⋅c₋⋅v₊ - 6⋅c₊⋅c₋⋅v₋ + c₋ ⋅k₊  - 2⋅c₊ ⋅k₊ + 2⋅c₊ ⋅k₋ + 3⋅c₊⋅c⁰₊⋅k₊ - 2⋅c₊\n",
       "──────────────────────────────────, ──────────────────────────────────────────\n",
       "                                                                              \n",
       "                                                                              \n",
       "\n",
       "                                                                          2   \n",
       "⋅c₋⋅k₊ + 2⋅c₊⋅c₋⋅k₋ - 3⋅c₊⋅c⁰₋⋅k₋ + 3⋅c₊⋅v₊ + 3⋅c₊⋅v₋ + 3⋅c⁰₊⋅c₋⋅k₊ - 2⋅c₋ ⋅k₊\n",
       "──────────────────────────────────────────────────────────────────────────────\n",
       "                           3       2             2     3                      \n",
       "                         c₊  - 3⋅c₊ ⋅c₋ + 3⋅c₊⋅c₋  - c₋                       \n",
       "\n",
       "       2                                                                      \n",
       " + 2⋅c₋ ⋅k₋ - 3⋅c₋⋅c⁰₋⋅k₋ + 3⋅c₋⋅v₊ + 3⋅c₋⋅v₋  c₊⋅k₊ - c₊⋅k₋ - 2⋅c⁰₊⋅k₊ + c₋⋅k\n",
       "─────────────────────────────────────────────, ───────────────────────────────\n",
       "                                                                  3       2   \n",
       "                                                                c₊  - 3⋅c₊ ⋅c₋\n",
       "\n",
       "                                  ⎞⎫\n",
       "₊ - c₋⋅k₋ + 2⋅c⁰₋⋅k₋ - 2⋅v₊ - 2⋅v₋⎟⎪\n",
       "──────────────────────────────────⎟⎬\n",
       "          2     3                 ⎟⎪\n",
       " + 3⋅c₊⋅c₋  - c₋                  ⎠⎭"
      ]
     },
     "execution_count": 26,
     "metadata": {},
     "output_type": "execute_result"
    }
   ],
   "source": [
    "X"
   ]
  },
  {
   "cell_type": "code",
   "execution_count": 37,
   "metadata": {},
   "outputs": [
    {
     "data": {
      "image/png": "[encoded data removed]",
      "text/latex": [
       "$$\\left\\{\\left ( \\frac{1}{\\left(c_{+} - c_{-}\\right)^{3}} \\left(c_{+}^{3} c^{0}_{-} k_{-} - c_{+}^{3} v_{-} - 2 c_{+}^{2} c_{-}^{2} k_{+} + 2 c_{+}^{2} c_{-}^{2} k_{-} - 3 c_{+}^{2} c_{-} c^{0}_{-} k_{-} + 3 c_{+}^{2} c_{-} v_{-} + 3 c_{+} c^{0}_{+} c_{-}^{2} k_{+} + 3 c_{+} c_{-}^{2} v_{+} - c^{0}_{+} c_{-}^{3} k_{+} - c_{-}^{3} v_{+}\\right), \\quad - \\frac{1}{\\left(c_{+} - c_{-}\\right)^{3}} \\left(c_{+}^{3} k_{-} - 4 c_{+}^{2} c_{-} k_{+} + c_{+}^{2} c_{-} k_{-} + 6 c_{+} c^{0}_{+} c_{-} k_{+} - c_{+} c_{-}^{2} k_{+} + 4 c_{+} c_{-}^{2} k_{-} - 6 c_{+} c_{-} c^{0}_{-} k_{-} + 6 c_{+} c_{-} v_{+} + 6 c_{+} c_{-} v_{-} - c_{-}^{3} k_{+}\\right), \\quad - \\frac{1}{\\left(c_{+} - c_{-}\\right)^{3}} \\left(2 c_{+}^{2} k_{+} - 2 c_{+}^{2} k_{-} - 3 c_{+} c^{0}_{+} k_{+} + 2 c_{+} c_{-} k_{+} - 2 c_{+} c_{-} k_{-} + 3 c_{+} c^{0}_{-} k_{-} - 3 c_{+} v_{+} - 3 c_{+} v_{-} - 3 c^{0}_{+} c_{-} k_{+} + 2 c_{-}^{2} k_{+} - 2 c_{-}^{2} k_{-} + 3 c_{-} c^{0}_{-} k_{-} - 3 c_{-} v_{+} - 3 c_{-} v_{-}\\right), \\quad \\frac{1}{\\left(c_{+} - c_{-}\\right)^{3}} \\left(c_{+} k_{+} - c_{+} k_{-} - 2 c^{0}_{+} k_{+} + c_{-} k_{+} - c_{-} k_{-} + 2 c^{0}_{-} k_{-} - 2 v_{+} - 2 v_{-}\\right)\\right )\\right\\}$$"
      ],
      "text/plain": [
       "⎧⎛  3            3          2   2          2   2          2                 2 \n",
       "⎪⎜c₊ ⋅c⁰₋⋅k₋ - c₊ ⋅v₋ - 2⋅c₊ ⋅c₋ ⋅k₊ + 2⋅c₊ ⋅c₋ ⋅k₋ - 3⋅c₊ ⋅c₋⋅c⁰₋⋅k₋ + 3⋅c₊ ⋅\n",
       "⎨⎜────────────────────────────────────────────────────────────────────────────\n",
       "⎪⎜                                                                        3   \n",
       "⎩⎝                                                               (c₊ - c₋)    \n",
       "\n",
       "                   2             2            3        3      ⎛  3          2 \n",
       "c₋⋅v₋ + 3⋅c₊⋅c⁰₊⋅c₋ ⋅k₊ + 3⋅c₊⋅c₋ ⋅v₊ - c⁰₊⋅c₋ ⋅k₊ - c₋ ⋅v₊  -⎝c₊ ⋅k₋ - 4⋅c₊ ⋅\n",
       "───────────────────────────────────────────────────────────, ─────────────────\n",
       "                                                                              \n",
       "                                                                              \n",
       "\n",
       "          2                               2             2                     \n",
       "c₋⋅k₊ + c₊ ⋅c₋⋅k₋ + 6⋅c₊⋅c⁰₊⋅c₋⋅k₊ - c₊⋅c₋ ⋅k₊ + 4⋅c₊⋅c₋ ⋅k₋ - 6⋅c₊⋅c₋⋅c⁰₋⋅k₋ \n",
       "──────────────────────────────────────────────────────────────────────────────\n",
       "                                                     3                        \n",
       "                                            (c₊ - c₋)                         \n",
       "\n",
       "                              3   ⎞    ⎛    2          2                      \n",
       "+ 6⋅c₊⋅c₋⋅v₊ + 6⋅c₊⋅c₋⋅v₋ - c₋ ⋅k₊⎠   -⎝2⋅c₊ ⋅k₊ - 2⋅c₊ ⋅k₋ - 3⋅c₊⋅c⁰₊⋅k₊ + 2⋅\n",
       "────────────────────────────────────, ────────────────────────────────────────\n",
       "                                                                              \n",
       "                                                                              \n",
       "\n",
       "                                                                            2 \n",
       "c₊⋅c₋⋅k₊ - 2⋅c₊⋅c₋⋅k₋ + 3⋅c₊⋅c⁰₋⋅k₋ - 3⋅c₊⋅v₊ - 3⋅c₊⋅v₋ - 3⋅c⁰₊⋅c₋⋅k₊ + 2⋅c₋ ⋅\n",
       "──────────────────────────────────────────────────────────────────────────────\n",
       "                                                3                             \n",
       "                                       (c₊ - c₋)                              \n",
       "\n",
       "         2                                     ⎞                              \n",
       "k₊ - 2⋅c₋ ⋅k₋ + 3⋅c₋⋅c⁰₋⋅k₋ - 3⋅c₋⋅v₊ - 3⋅c₋⋅v₋⎠   c₊⋅k₊ - c₊⋅k₋ - 2⋅c⁰₊⋅k₊ + \n",
       "─────────────────────────────────────────────────, ───────────────────────────\n",
       "                                                                              \n",
       "                                                                              \n",
       "\n",
       "                                      ⎞⎫\n",
       "c₋⋅k₊ - c₋⋅k₋ + 2⋅c⁰₋⋅k₋ - 2⋅v₊ - 2⋅v₋⎟⎪\n",
       "──────────────────────────────────────⎟⎬\n",
       "          3                           ⎟⎪\n",
       " (c₊ - c₋)                            ⎠⎭"
      ]
     },
     "execution_count": 37,
     "metadata": {},
     "output_type": "execute_result"
    }
   ],
   "source": [
    "from sympy.simplify import combsimp\n",
    "combsimp(X)"
   ]
  },
  {
   "cell_type": "code",
   "execution_count": null,
   "metadata": {
    "collapsed": true
   },
   "outputs": [],
   "source": []
  }
 ],
 "metadata": {
  "kernelspec": {
   "display_name": "Python 3",
   "language": "python",
   "name": "python3"
  },
  "language_info": {
   "codemirror_mode": {
    "name": "ipython",
    "version": 3
   },
   "file_extension": ".py",
   "mimetype": "text/x-python",
   "name": "python",
   "nbconvert_exporter": "python",
   "pygments_lexer": "ipython3",
   "version": "3.6.1"
  }
 },
 "nbformat": 4,
 "nbformat_minor": 2
}
