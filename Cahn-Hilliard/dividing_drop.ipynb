{
 "cells": [
  {
   "cell_type": "code",
   "execution_count": 1,
   "metadata": {
    "collapsed": true
   },
   "outputs": [],
   "source": [
    "from sympy import Matrix, S, linsolve, symbols, simplify\n",
    "from sympy.interactive import printing\n",
    "printing.init_printing(use_latex=True)"
   ]
  },
  {
   "cell_type": "markdown",
   "metadata": {},
   "source": [
    "# Continuum model for active droplet dividing\n",
    "\n",
    "The dynamics of the concentration field is described by:\n",
    "$$\\partial_t c=m\\nabla^2 \\mu + s(c)$$\n",
    "$$\\mu = \\frac{b}{(\\Delta c)^2}(c-c^{(0)}_+)(c-c^{(0)}_-)(2c-c^{(0)}_- - c^{(0)}_+) - \\kappa \\nabla^2 c$$\n",
    "\n",
    "The source term $s(c)$ describes chemical reactions, which is supposed to be linear in the phases outside and inside the droplet.\n",
    "$$ s(c)=\\left\\{\n",
    "\\begin{aligned}\n",
    "&\\nu_+ + k_+ c^{(0)}_+ - k_+c \\quad &\\mathrm{for}\\ c<c^+_c \\\\\n",
    "&-\\nu_- + k_- c^{(0)}_- - k_-c \\quad &\\mathrm{for}\\ c>c^{-}_c \\\\\n",
    "&p(c) \\quad &\\mathrm{for}\\ c^+_c < c < c^-_c\n",
    "\\end{aligned}\n",
    "\\right.$$\n",
    "\n",
    "where $c^+_c$ and $c^-_c$ are two characteristic concentrations and $p(c)=p_0 + p_1 c + p_2 c^2 + p_3 c^3$ is a cubic polynomial satisfying\n",
    "$$\n",
    "\\begin{aligned}\n",
    "p(c^\\pm_c)=&\\pm v_\\pm + k_\\pm c^{(0)}_\\pm - k_\\pm c^\\pm_c \\\\\n",
    "p'(c^\\pm_c)=&-k_\\pm.\n",
    "\\end{aligned}\n",
    "$$\n",
    "\n",
    "## Nonnormalization\n",
    "Normalize concentration, length and time by $\\Delta c=c^{(0)}_--c^{(0)}_+$, $\\hat{\\omega}=2(\\kappa /b)^{1/2}$ and $t_0=\\hat{\\omega}^2/D$ ($D=mb$) respectively, we get\n",
    "$$\\partial_t c = \\nabla^2 \\left[(c-c^{0}_+)(c-c^{0}_-)(2c - c^{(0)}_- - c^{(0)}_+)-\\frac{1}{4}\\nabla^2 c\\right ] + s(c)$$\n",
    "where we have applied $c^{0}_\\pm \\Delta c\\to c^{(0)}_\\pm$, $c^\\pm_c \\Delta c\\to c^\\pm_c$, $s(c\\Delta c) t_0\\to s(c)$, $v_\\pm\\frac{\\Delta c}{t_0}\\to v_\\pm$, $k_\\pm / t_0 \\to k_\\pm$."
   ]
  }
 ],
 "metadata": {
  "kernelspec": {
   "display_name": "Python 3",
   "language": "python",
   "name": "python3"
  },
  "language_info": {
   "codemirror_mode": {
    "name": "ipython",
    "version": 3
   },
   "file_extension": ".py",
   "mimetype": "text/x-python",
   "name": "python",
   "nbconvert_exporter": "python",
   "pygments_lexer": "ipython3",
   "version": "3.6.1"
  }
 },
 "nbformat": 4,
 "nbformat_minor": 2
}
